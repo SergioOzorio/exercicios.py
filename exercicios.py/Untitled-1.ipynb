{
 "cells": [
  {
   "cell_type": "markdown",
   "metadata": {},
   "source": [
    "1 - Escreva um programa que solicte ao usuário dois números e exiba a soma, subtração, multiplicação e divisão entre eles."
   ]
  },
  {
   "cell_type": "code",
   "execution_count": 4,
   "metadata": {},
   "outputs": [
    {
     "name": "stdout",
     "output_type": "stream",
     "text": [
      "20\n"
     ]
    }
   ],
   "source": [
    "# Soma de dois números\n",
    "numero_01 = int(input(\"Digite o primeiro valor \"))\n",
    "numero_02 = int(input(\"Digite o segundo valor \"))\n",
    "print(numero_01 + numero_02)"
   ]
  },
  {
   "cell_type": "code",
   "execution_count": 5,
   "metadata": {},
   "outputs": [
    {
     "name": "stdout",
     "output_type": "stream",
     "text": [
      "10\n"
     ]
    }
   ],
   "source": [
    "# Subtração de dois números\n",
    "numero_01 = int(input(\"Digite o primeiro valor \"))\n",
    "numero_02 = int(input(\"Digite o segundo valor \"))\n",
    "print(numero_01 - numero_02)"
   ]
  },
  {
   "cell_type": "markdown",
   "metadata": {},
   "source": [
    "2 - Escreva um programa que calcule a média aritimética de dois números."
   ]
  },
  {
   "cell_type": "code",
   "execution_count": 8,
   "metadata": {},
   "outputs": [
    {
     "name": "stdout",
     "output_type": "stream",
     "text": [
      "A media aritimética dos números é: 9.0\n"
     ]
    }
   ],
   "source": [
    "nota1 = int(input(\"Digite a primeira nota: \"))\n",
    "nota2 = int(input(\"Digite a segunda nota: \"))\n",
    "media = (nota1 + nota2)/2\n",
    "\n",
    "print(\"A media aritimética dos números é:\", media)"
   ]
  },
  {
   "cell_type": "markdown",
   "metadata": {},
   "source": [
    "3 - Crie um programa que calcule e exiba a média aritimética de três notas informadas pelo usuário."
   ]
  },
  {
   "cell_type": "code",
   "execution_count": 1,
   "metadata": {},
   "outputs": [
    {
     "name": "stdout",
     "output_type": "stream",
     "text": [
      "A média final é: 7.00\n"
     ]
    }
   ],
   "source": [
    "nota1 = float(input(\"Difite a primeira nota: \"))\n",
    "nota2 = float(input(\"Difite a segunda nota: \"))\n",
    "nota3 = float(input(\"Difite a terceira nota: \"))\n",
    "\n",
    "media = ((nota1 + nota2 + nota3) /3)\n",
    "print(\"A média final é: {:.2f}\".format(media))\n"
   ]
  },
  {
   "cell_type": "markdown",
   "metadata": {},
   "source": [
    "4 - Escreva um programa que calcule a média geométrica entre três números informados pelo usuário."
   ]
  },
  {
   "cell_type": "code",
   "execution_count": 6,
   "metadata": {},
   "outputs": [
    {
     "name": "stdout",
     "output_type": "stream",
     "text": [
      "A média geométrica dos números é: 12.60\n"
     ]
    }
   ],
   "source": [
    "import math\n",
    "\n",
    "numero_01 = float(input(\"Digite o primeiro número: \"))\n",
    "numero_02 = float(input(\"Digite o segundo número: \"))\n",
    "numero_03 = float(input(\"Digite o terceiro número: \"))\n",
    "\n",
    "media_geo = math.pow(numero_01 * numero_02 * numero_03, 1/3)\n",
    "\n",
    "print(\"A média geométrica dos números é: {:.2f}\".format(media_geo))\n",
    "\n"
   ]
  },
  {
   "cell_type": "markdown",
   "metadata": {},
   "source": [
    "5 - Escreva um programa que calcule o IMC de um indivíduo, utilizando a fórmula IMC = peso / altura2"
   ]
  },
  {
   "cell_type": "code",
   "execution_count": 2,
   "metadata": {},
   "outputs": [
    {
     "name": "stdout",
     "output_type": "stream",
     "text": [
      "Seu índice de massa corporal (IMC) é:  0.0023738662131519276\n",
      "Seu índice de massa corporal (IMC) é: 0.0024\n"
     ]
    }
   ],
   "source": [
    "peso = float(input('Digite seu peso em kg: '))\n",
    "altura = float(input(\"Digite sua altura em cm: \"))\n",
    "\n",
    "imc = peso / (altura )** 2\n",
    "print(\"Seu índice de massa corporal (IMC) é: \", imc)\n",
    "#formatado\n",
    "print(\"Seu índice de massa corporal (IMC) é: {:.4f}\".format(imc))"
   ]
  },
  {
   "cell_type": "markdown",
   "metadata": {},
   "source": [
    "6 - Crie um programa que calcule e exiba o perimetro de um círculo, solcitando o raio ao usuário"
   ]
  },
  {
   "cell_type": "code",
   "execution_count": 1,
   "metadata": {},
   "outputs": [
    {
     "name": "stdout",
     "output_type": "stream",
     "text": [
      "O perímetro do círculo é:  125.66370614359172\n"
     ]
    }
   ],
   "source": [
    "import math\n",
    "\n",
    "raio = float(input(\"Digite o raio do círculo: \"))\n",
    "\n",
    "perimetro = 2 * math.pi * raio\n",
    "print(\"O perímetro do círculo é: \", perimetro)"
   ]
  },
  {
   "cell_type": "markdown",
   "metadata": {},
   "source": [
    "7 - Escreva um programa que calcule a área de um círculo a partir do raio, utilizando a formula A = pi r2"
   ]
  },
  {
   "cell_type": "code",
   "execution_count": 1,
   "metadata": {},
   "outputs": [
    {
     "name": "stdout",
     "output_type": "stream",
     "text": [
      "A área do círculo é:  314.1592653589793\n"
     ]
    }
   ],
   "source": [
    "import math\n",
    "\n",
    "raio = float(input(\"Digite o ráio do círculo: \"))\n",
    "area = math.pi * raio**2\n",
    "print(\"A área do círculo é: \", area)"
   ]
  },
  {
   "cell_type": "markdown",
   "metadata": {},
   "source": [
    "8 - Escreva um programa que calcule o delta de uma equiação de segundo grau (triangulo = b2 - 4ac)"
   ]
  },
  {
   "cell_type": "code",
   "execution_count": 2,
   "metadata": {},
   "outputs": [
    {
     "name": "stdout",
     "output_type": "stream",
     "text": [
      "O delta da equiação de segundo gral é:  -175.0\n"
     ]
    }
   ],
   "source": [
    "a = float(input(\"Digite o coeficiente a: \"))\n",
    "b = float(input(\"Digite o coeficiente b: \"))\n",
    "c = float(input(\"Digite o coeficiente c: \"))\n",
    "\n",
    "delta = b**2 - 4*a*c\n",
    "print(\"O delta da equiação de segundo gral é: \", delta)"
   ]
  },
  {
   "cell_type": "markdown",
   "metadata": {},
   "source": [
    "9 - Escreva um programa que calcule o perímetro e a área de um retângulo, utilizando as fórmulas P = 2(l + c) e A = lc, onde l é a largura e c o comprimento"
   ]
  },
  {
   "cell_type": "code",
   "execution_count": 4,
   "metadata": {},
   "outputs": [
    {
     "name": "stdout",
     "output_type": "stream",
     "text": [
      "O perímetro do retângulo é:  80.0\n",
      "A área do retângulo é:  400.0\n"
     ]
    }
   ],
   "source": [
    "largura = float(input(\"Digite a largura do retângulo: \"))\n",
    "comprimento = float(input(\"Digite o comprimento do retângulo: \"))\n",
    "\n",
    "perimetro = 2 * (largura + comprimento)\n",
    "area = largura * comprimento\n",
    "\n",
    "print(\"O perímetro do retângulo é: \", perimetro)\n",
    "print(\"A área do retângulo é: \", area)\n",
    "\n"
   ]
  },
  {
   "cell_type": "markdown",
   "metadata": {},
   "source": [
    "10 - Escreva um programa que calcule o perímetro e a área do triângulo, utilizando as formulas P = a + b + c e   A = (b * h) /2 onde a, b e c são os lados do triângulo e h é altura relativa ao lado b. "
   ]
  },
  {
   "cell_type": "code",
   "execution_count": 1,
   "metadata": {},
   "outputs": [
    {
     "name": "stdout",
     "output_type": "stream",
     "text": [
      "O perímetro do triângulo é:  30.0\n",
      "A área do triângulo é:  50.0\n"
     ]
    }
   ],
   "source": [
    "a = float(input(\"Digite o valor do lado a: \"))\n",
    "b = float(input(\"Digite o valor do lado b: \"))\n",
    "c = float(input(\"Digite o valor do lado c: \"))\n",
    "\n",
    "h = float(input(\"Digite a altura relativa ao lado b do triangulo: \"))\n",
    "\n",
    "perimetro = a + b + c\n",
    "area = (b * h)/2\n",
    "print(\"O perímetro do triângulo é: \", perimetro)\n",
    "print(\"A área do triângulo é: \", area)\n"
   ]
  },
  {
   "cell_type": "markdown",
   "metadata": {},
   "source": [
    "11 - Escreva um programa que calcule a velocidade média de um objeto, utilizando a fórmula V = delta_s /delta_t, onde V é a velocidade média, delta_s é a variação de espaço e delta_t é a de tempo."
   ]
  },
  {
   "cell_type": "code",
   "execution_count": 1,
   "metadata": {},
   "outputs": [
    {
     "name": "stdout",
     "output_type": "stream",
     "text": [
      "A velocidade média é:  2.0\n"
     ]
    }
   ],
   "source": [
    "delta_s = float(input(\"Digite a variação de espaço (delta_s): \"))\n",
    "delta_t = float(input(\"Digite a variação de tempo (delta_t): \"))\n",
    "\n",
    "velocidade_media = delta_s / delta_t\n",
    "\n",
    "print(\"A velocidade média é: \", velocidade_media)"
   ]
  },
  {
   "cell_type": "markdown",
   "metadata": {},
   "source": [
    "15 - Crie um programa que solicite ao usuáro o valor do raio de uma esfera e calcule e exiba seu volume"
   ]
  },
  {
   "cell_type": "code",
   "execution_count": 2,
   "metadata": {},
   "outputs": [
    {
     "name": "stdout",
     "output_type": "stream",
     "text": [
      "O volume da esfera é:  4188.790204786391\n"
     ]
    }
   ],
   "source": [
    "# importa o módulo math para utilizar a constante pi \n",
    "import math\n",
    "\n",
    "# Solicita ao usuário o valor do ráio da esfera\n",
    "raio = float(input(\"Digite o valor do raio da esfera: \"))\n",
    "\n",
    "# Formula para cálculo da esfera V = (4/3) * pi * raio3\n",
    "volume = (4 / 3) * math.pi * raio **3\n",
    "\n",
    "print(\"O volume da esfera é: \", volume)"
   ]
  },
  {
   "cell_type": "markdown",
   "metadata": {},
   "source": []
  }
 ],
 "metadata": {
  "kernelspec": {
   "display_name": "Python 3",
   "language": "python",
   "name": "python3"
  },
  "language_info": {
   "codemirror_mode": {
    "name": "ipython",
    "version": 3
   },
   "file_extension": ".py",
   "mimetype": "text/x-python",
   "name": "python",
   "nbconvert_exporter": "python",
   "pygments_lexer": "ipython3",
   "version": "3.12.4"
  }
 },
 "nbformat": 4,
 "nbformat_minor": 2
}
