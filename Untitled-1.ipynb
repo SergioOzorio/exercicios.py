{
 "cells": [
  {
   "cell_type": "markdown",
   "metadata": {},
   "source": [
    "1 - Escreva um programa que solicte ao usuário dois números e exiba a soma, subtração, multiplicação e divisão entre eles."
   ]
  },
  {
   "cell_type": "code",
   "execution_count": 4,
   "metadata": {},
   "outputs": [
    {
     "name": "stdout",
     "output_type": "stream",
     "text": [
      "20\n"
     ]
    }
   ],
   "source": [
    "# Soma de dois números\n",
    "numero_01 = int(input(\"Digite o primeiro valor \"))\n",
    "numero_02 = int(input(\"Digite o segundo valor \"))\n",
    "print(numero_01 + numero_02)"
   ]
  },
  {
   "cell_type": "code",
   "execution_count": 5,
   "metadata": {},
   "outputs": [
    {
     "name": "stdout",
     "output_type": "stream",
     "text": [
      "10\n"
     ]
    }
   ],
   "source": [
    "# Subtração de dois números\n",
    "numero_01 = int(input(\"Digite o primeiro valor \"))\n",
    "numero_02 = int(input(\"Digite o segundo valor \"))\n",
    "print(numero_01 - numero_02)"
   ]
  },
  {
   "cell_type": "markdown",
   "metadata": {},
   "source": []
  },
  {
   "cell_type": "markdown",
   "metadata": {},
   "source": []
  },
  {
   "cell_type": "markdown",
   "metadata": {},
   "source": [
    "2 - Escreva um programa que calcule a média aritimética de dois números."
   ]
  },
  {
   "cell_type": "code",
   "execution_count": 8,
   "metadata": {},
   "outputs": [
    {
     "name": "stdout",
     "output_type": "stream",
     "text": [
      "A media aritimética dos números é: 9.0\n"
     ]
    }
   ],
   "source": [
    "nota1 = int(input(\"Digite a primeira nota: \"))\n",
    "nota2 = int(input(\"Digite a segunda nota: \"))\n",
    "media = (nota1 + nota2)/2\n",
    "\n",
    "print(\"A media aritimética dos números é:\", media)"
   ]
  },
  {
   "cell_type": "markdown",
   "metadata": {},
   "source": [
    "3 - Crie um programa que calcule e exiba a média aritimética de três notas informadas pelo usuário."
   ]
  },
  {
   "cell_type": "code",
   "execution_count": 1,
   "metadata": {},
   "outputs": [
    {
     "name": "stdout",
     "output_type": "stream",
     "text": [
      "A média final é: 7.00\n"
     ]
    }
   ],
   "source": [
    "nota1 = float(input(\"Difite a primeira nota: \"))\n",
    "nota2 = float(input(\"Difite a segunda nota: \"))\n",
    "nota3 = float(input(\"Difite a terceira nota: \"))\n",
    "\n",
    "media = ((nota1 + nota2 + nota3) /3)\n",
    "print(\"A média final é: {:.2f}\".format(media))\n"
   ]
  },
  {
   "cell_type": "markdown",
   "metadata": {},
   "source": [
    "4 - Escreva um programa que calcule a média geométrica entre três números informados pelo usuário."
   ]
  },
  {
   "cell_type": "code",
   "execution_count": 6,
   "metadata": {},
   "outputs": [
    {
     "name": "stdout",
     "output_type": "stream",
     "text": [
      "A média geométrica dos números é: 12.60\n"
     ]
    }
   ],
   "source": [
    "import math\n",
    "\n",
    "numero_01 = float(input(\"Digite o primeiro número: \"))\n",
    "numero_02 = float(input(\"Digite o segundo número: \"))\n",
    "numero_03 = float(input(\"Digite o terceiro número: \"))\n",
    "\n",
    "media_geo = math.pow(numero_01 * numero_02 * numero_03, 1/3)\n",
    "\n",
    "print(\"A média geométrica dos números é: {:.2f}\".format(media_geo))\n",
    "\n"
   ]
  },
  {
   "cell_type": "markdown",
   "metadata": {},
   "source": [
    "5 - Escreva um programa que calcule o IMC de um indivíduo, utilizando a fórmula IMC = peso / altura2"
   ]
  },
  {
   "cell_type": "code",
   "execution_count": 2,
   "metadata": {},
   "outputs": [
    {
     "name": "stdout",
     "output_type": "stream",
     "text": [
      "Seu índice de massa corporal (IMC) é:  0.0023738662131519276\n",
      "Seu índice de massa corporal (IMC) é: 0.0024\n"
     ]
    }
   ],
   "source": [
    "peso = float(input('Digite seu peso em kg: '))\n",
    "altura = float(input(\"Digite sua altura em cm: \"))\n",
    "\n",
    "imc = peso / (altura )** 2\n",
    "print(\"Seu índice de massa corporal (IMC) é: \", imc)\n",
    "#formatado\n",
    "print(\"Seu índice de massa corporal (IMC) é: {:.4f}\".format(imc))"
   ]
  },
  {
   "cell_type": "markdown",
   "metadata": {},
   "source": [
    "6 - Crie um programa que calcule e exiba o perimetro de um círculo, solcitando o raio ao usuário"
   ]
  },
  {
   "cell_type": "code",
   "execution_count": 1,
   "metadata": {},
   "outputs": [
    {
     "name": "stdout",
     "output_type": "stream",
     "text": [
      "O perímetro do círculo é:  125.66370614359172\n"
     ]
    }
   ],
   "source": [
    "import math\n",
    "\n",
    "raio = float(input(\"Digite o raio do círculo: \"))\n",
    "\n",
    "perimetro = 2 * math.pi * raio\n",
    "print(\"O perímetro do círculo é: \", perimetro)"
   ]
  },
  {
   "cell_type": "markdown",
   "metadata": {},
   "source": [
    "7 - Escreva um programa que calcule a área de um círculo a partir do raio, utilizando a formula A = pi r2"
   ]
  },
  {
   "cell_type": "code",
   "execution_count": 1,
   "metadata": {},
   "outputs": [
    {
     "name": "stdout",
     "output_type": "stream",
     "text": [
      "A área do círculo é:  314.1592653589793\n"
     ]
    }
   ],
   "source": [
    "import math\n",
    "\n",
    "raio = float(input(\"Digite o ráio do círculo: \"))\n",
    "area = math.pi * raio**2\n",
    "print(\"A área do círculo é: \", area)"
   ]
  },
  {
   "cell_type": "markdown",
   "metadata": {},
   "source": [
    "8 - Escreva um programa que calcule o delta de uma equiação de segundo grau (triangulo = b2 - 4ac)"
   ]
  },
  {
   "cell_type": "code",
   "execution_count": 2,
   "metadata": {},
   "outputs": [
    {
     "name": "stdout",
     "output_type": "stream",
     "text": [
      "O delta da equiação de segundo gral é:  -175.0\n"
     ]
    }
   ],
   "source": [
    "a = float(input(\"Digite o coeficiente a: \"))\n",
    "b = float(input(\"Digite o coeficiente b: \"))\n",
    "c = float(input(\"Digite o coeficiente c: \"))\n",
    "\n",
    "delta = b**2 - 4*a*c\n",
    "print(\"O delta da equiação de segundo gral é: \", delta)"
   ]
  },
  {
   "cell_type": "markdown",
   "metadata": {},
   "source": [
    "9 - Escreva um programa que calcule o perímetro e a área de um retângulo, utilizando as fórmulas P = 2(l + c) e A = lc, onde l é a largura e c o comprimento"
   ]
  },
  {
   "cell_type": "code",
   "execution_count": 4,
   "metadata": {},
   "outputs": [
    {
     "name": "stdout",
     "output_type": "stream",
     "text": [
      "O perímetro do retângulo é:  80.0\n",
      "A área do retângulo é:  400.0\n"
     ]
    }
   ],
   "source": [
    "largura = float(input(\"Digite a largura do retângulo: \"))\n",
    "comprimento = float(input(\"Digite o comprimento do retângulo: \"))\n",
    "\n",
    "perimetro = 2 * (largura + comprimento)\n",
    "area = largura * comprimento\n",
    "\n",
    "print(\"O perímetro do retângulo é: \", perimetro)\n",
    "print(\"A área do retângulo é: \", area)\n",
    "\n"
   ]
  },
  {
   "cell_type": "markdown",
   "metadata": {},
   "source": [
    "10 - Escreva um programa que calcule o perímetro e a área do triângulo, utilizando as formulas P = a + b + c e   A = (b * h) /2 onde a, b e c são os lados do triângulo e h é altura relativa ao lado b. "
   ]
  },
  {
   "cell_type": "code",
   "execution_count": 1,
   "metadata": {},
   "outputs": [
    {
     "name": "stdout",
     "output_type": "stream",
     "text": [
      "O perímetro do triângulo é:  30.0\n",
      "A área do triângulo é:  50.0\n"
     ]
    }
   ],
   "source": [
    "a = float(input(\"Digite o valor do lado a: \"))\n",
    "b = float(input(\"Digite o valor do lado b: \"))\n",
    "c = float(input(\"Digite o valor do lado c: \"))\n",
    "\n",
    "h = float(input(\"Digite a altura relativa ao lado b do triangulo: \"))\n",
    "\n",
    "perimetro = a + b + c\n",
    "area = (b * h)/2\n",
    "print(\"O perímetro do triângulo é: \", perimetro)\n",
    "print(\"A área do triângulo é: \", area)\n"
   ]
  },
  {
   "cell_type": "markdown",
   "metadata": {},
   "source": [
    "11 - Escreva um programa que calcule a velocidade média de um objeto, utilizando a fórmula V = delta_s /delta_t, onde V é a velocidade média, delta_s é a variação de espaço e delta_t é a de tempo."
   ]
  },
  {
   "cell_type": "code",
   "execution_count": 1,
   "metadata": {},
   "outputs": [
    {
     "name": "stdout",
     "output_type": "stream",
     "text": [
      "A velocidade média é:  2.0\n"
     ]
    }
   ],
   "source": [
    "delta_s = float(input(\"Digite a variação de espaço (delta_s): \"))\n",
    "delta_t = float(input(\"Digite a variação de tempo (delta_t): \"))\n",
    "\n",
    "velocidade_media = delta_s / delta_t\n",
    "\n",
    "print(\"A velocidade média é: \", velocidade_media)"
   ]
  },
  {
   "cell_type": "markdown",
   "metadata": {},
   "source": [
    "12 - Escreva um programa que calcule a energia cinética de um objeto em movimento, utilizando a fórmula E = (mv2) / 2 onde E é a energia cinética, m é a massa do objeto e v é a velocidade."
   ]
  },
  {
   "cell_type": "code",
   "execution_count": 2,
   "metadata": {},
   "outputs": [
    {
     "name": "stdout",
     "output_type": "stream",
     "text": [
      "A energia cinética do objeto é:  1687.5\n"
     ]
    }
   ],
   "source": [
    "# Formula E = (mv2) / 2\n",
    "\n",
    "m = float(input(\"Digite a massa do objeto: \"))\n",
    "v = float(input(\"Digite a velocidade do objeto: \"))\n",
    "\n",
    "energia_cinetia = (m * v**2) / 2\n",
    "print(\"A energia cinética do objeto é: \", energia_cinetia)"
   ]
  },
  {
   "cell_type": "markdown",
   "metadata": {},
   "source": [
    "13 - Escreva um programa que calcule o trabalho realizado por uma força que atua sobre um objeto, utilizando a fórmula T = F * d, onde T é o trabalho, F é a força aplicada e d é a distância percorrida pelo objeto."
   ]
  },
  {
   "cell_type": "code",
   "execution_count": 1,
   "metadata": {},
   "outputs": [
    {
     "name": "stdout",
     "output_type": "stream",
     "text": [
      "O resultado da força é de:  150.0\n"
     ]
    }
   ],
   "source": [
    "forca = float(input(\"Digite o valor da força aplicada (F): \"))\n",
    "distancia = float(input(\"Digite o valor da distância percorrida (D): \"))\n",
    "\n",
    "trabalho = forca * distancia\n",
    "\n",
    "print(\"O resultado da força é de: \", trabalho)"
   ]
  },
  {
   "cell_type": "markdown",
   "metadata": {},
   "source": [
    "14 - escreva um programa que leia a posição x e y de dois pontos no plano cartesiano, e calcule a distância entre ambos."
   ]
  },
  {
   "cell_type": "code",
   "execution_count": null,
   "metadata": {},
   "outputs": [],
   "source": [
    "import math\n",
    "\n",
    "# Coordenadas do primeiro ponto\n",
    "x1 = float(input(\"Digite a coordenada x do primeiro ponto: \"))\n",
    "y1 = float(input(\"Digite a coordenada y do primeiro ponto: \"))\n",
    "\n",
    "\n",
    "# Coordenadas do segundo ponto\n",
    "x2 = float(input(\"Digite a coordenada x do segundo ponto: \"))\n",
    "y2 = float(input(\"Digite a coordenada y do segundo ponto: \"))\n",
    "\n",
    "# Calculando a diferença entre as coordenadas x e y dos dois pontos\n",
    "dif_x = x2 - x1\n",
    "dif_y = y2 - y1\n",
    "\n",
    "# Calcula a distância entre os pontos utilizando o teorema de pitágoras\n",
    "distancia = math.sqrt(dif_x ** 2 + dif_y ** 2)\n",
    "\n",
    "print(\"A distância entre os pontos é: \", distancia)\n",
    "\n"
   ]
  },
  {
   "cell_type": "markdown",
   "metadata": {},
   "source": [
    "15 - Crie um programa qie spçocote ap usário o valor do raio de uma esfera e calcule e exiba o seu volume"
   ]
  },
  {
   "cell_type": "code",
   "execution_count": 1,
   "metadata": {},
   "outputs": [
    {
     "name": "stdout",
     "output_type": "stream",
     "text": [
      "O valor da esfera é:  14137166.941154068\n"
     ]
    }
   ],
   "source": [
    "# Importando o módulo math para utilizar a constante pi\n",
    "import math\n",
    "\n",
    "raio = float(input(\"Digite o valor do raio da esfera: \"))\n",
    "\n",
    "# Formula V = (4/3) * pi * raio3\n",
    "volume = (4/3) * math.pi * raio **3\n",
    "\n",
    "print(\"O valor da esfera é: \", volume)\n"
   ]
  },
  {
   "cell_type": "markdown",
   "metadata": {},
   "source": [
    "16 - Faça um programa que solicite a idade de uma pessoa e exiba se ela é maior de idade ou nao"
   ]
  },
  {
   "cell_type": "code",
   "execution_count": 10,
   "metadata": {},
   "outputs": [
    {
     "name": "stdout",
     "output_type": "stream",
     "text": [
      "Você é maior de idade. Idade atual 58 anos\n"
     ]
    }
   ],
   "source": [
    "idade = int(input(\"Digite sua idade: \"))\n",
    "\n",
    "if idade >= 18:\n",
    "    print(\"Você é maior de idade. Idade atual {} anos\".format(idade))\n",
    "else:\n",
    "    print(\"Você ainda não atingiu a maior idade\")"
   ]
  },
  {
   "cell_type": "markdown",
   "metadata": {},
   "source": [
    "17 - Faça um programa que leia dois números e informe qual é o maior"
   ]
  },
  {
   "cell_type": "code",
   "execution_count": 23,
   "metadata": {},
   "outputs": [
    {
     "name": "stdout",
     "output_type": "stream",
     "text": [
      "Os valores são iguais .\n"
     ]
    }
   ],
   "source": [
    "numero_01 = int(input(\"Digite o primeiro valor: \"))\n",
    "numero_02 = int(input(\"Digite o segundo valor: \"))\n",
    "\n",
    "if numero_01 > numero_02:\n",
    "    print(\"O primeiro valor, {} é maior que segundo, {}\".format(numero_01, numero_02))\n",
    "elif numero_02 > numero_01:\n",
    "    print(\"O segundo valor {}, é maior que o primeiro valor {}.\".format(numero_02, numero_01))\n",
    "else:\n",
    "    print(\"Os valores são iguais.\".format(numero_02, numero_01))    "
   ]
  },
  {
   "cell_type": "markdown",
   "metadata": {},
   "source": [
    "18 - Escreva um programa que solicite três números ao usuário e exiba o maior deles"
   ]
  },
  {
   "cell_type": "code",
   "execution_count": 22,
   "metadata": {},
   "outputs": [
    {
     "name": "stdout",
     "output_type": "stream",
     "text": [
      "O maior número é: 32.9\n"
     ]
    }
   ],
   "source": [
    "numero_01 = float(input(\"Digite o primeiro valor: \"))\n",
    "numero_02 = float(input(\"Digite o segundo valor: \"))\n",
    "numero_03 = float(input(\"Digite o terceiro valor: \"))\n",
    "\n",
    "\n",
    "if numero_01 >= numero_02 and numero_01 >= numero_03:\n",
    "    maior_numero = numero_01\n",
    "elif numero_02 >= numero_01 and numero_02 >= numero_03:\n",
    "    maior_numero = numero_02\n",
    "else:\n",
    "    maior_numero = numero_03\n",
    "\n",
    "print(\"O maior número é:\", maior_numero)\n",
    "\n",
    "\n"
   ]
  },
  {
   "cell_type": "markdown",
   "metadata": {},
   "source": [
    "19 - Faça um programa que leia um número e informe se ele é para ou ímpar"
   ]
  },
  {
   "cell_type": "code",
   "execution_count": 28,
   "metadata": {},
   "outputs": [
    {
     "name": "stdout",
     "output_type": "stream",
     "text": [
      "O número 3 é ímpar!\n"
     ]
    }
   ],
   "source": [
    "numero = int(input(\"Digite um número: \"))\n",
    "\n",
    "if numero % 2 == 0:\n",
    "    print(\"O número\", numero, \"é par!\" )\n",
    "else:\n",
    "    print(\"O número\", numero, \"é ímpar!\")"
   ]
  }
 ],
 "metadata": {
  "kernelspec": {
   "display_name": "Python 3",
   "language": "python",
   "name": "python3"
  },
  "language_info": {
   "codemirror_mode": {
    "name": "ipython",
    "version": 3
   },
   "file_extension": ".py",
   "mimetype": "text/x-python",
   "name": "python",
   "nbconvert_exporter": "python",
   "pygments_lexer": "ipython3",
   "version": "3.12.5"
  }
 },
 "nbformat": 4,
 "nbformat_minor": 2
}
