{
 "cells": [
  {
   "cell_type": "markdown",
   "metadata": {},
   "source": [
    "1 - Escreva um programa que solicte ao usuário dois números e exiba a soma, subtração, multiplicação e divisão entre eles."
   ]
  },
  {
   "cell_type": "code",
   "execution_count": 4,
   "metadata": {},
   "outputs": [
    {
     "name": "stdout",
     "output_type": "stream",
     "text": [
      "20\n"
     ]
    }
   ],
   "source": [
    "# Soma de dois números\n",
    "numero_01 = int(input(\"Digite o primeiro valor \"))\n",
    "numero_02 = int(input(\"Digite o segundo valor \"))\n",
    "print(numero_01 + numero_02)"
   ]
  },
  {
   "cell_type": "code",
   "execution_count": 5,
   "metadata": {},
   "outputs": [
    {
     "name": "stdout",
     "output_type": "stream",
     "text": [
      "10\n"
     ]
    }
   ],
   "source": [
    "# Subtração de dois números\n",
    "numero_01 = int(input(\"Digite o primeiro valor \"))\n",
    "numero_02 = int(input(\"Digite o segundo valor \"))\n",
    "print(numero_01 - numero_02)"
   ]
  },
  {
   "cell_type": "markdown",
   "metadata": {},
   "source": []
  },
  {
   "cell_type": "markdown",
   "metadata": {},
   "source": []
  },
  {
   "cell_type": "markdown",
   "metadata": {},
   "source": [
    "2 - Escreva um programa que calcule a média aritimética de dois números."
   ]
  },
  {
   "cell_type": "code",
   "execution_count": 8,
   "metadata": {},
   "outputs": [
    {
     "name": "stdout",
     "output_type": "stream",
     "text": [
      "A media aritimética dos números é: 9.0\n"
     ]
    }
   ],
   "source": [
    "nota1 = int(input(\"Digite a primeira nota: \"))\n",
    "nota2 = int(input(\"Digite a segunda nota: \"))\n",
    "media = (nota1 + nota2)/2\n",
    "\n",
    "print(\"A media aritimética dos números é:\", media)"
   ]
  },
  {
   "cell_type": "markdown",
   "metadata": {},
   "source": [
    "3 - Crie um programa que calcule e exiba a média aritimética de três notas informadas pelo usuário."
   ]
  },
  {
   "cell_type": "code",
   "execution_count": 1,
   "metadata": {},
   "outputs": [
    {
     "name": "stdout",
     "output_type": "stream",
     "text": [
      "A média final é: 7.00\n"
     ]
    }
   ],
   "source": [
    "nota1 = float(input(\"Difite a primeira nota: \"))\n",
    "nota2 = float(input(\"Difite a segunda nota: \"))\n",
    "nota3 = float(input(\"Difite a terceira nota: \"))\n",
    "\n",
    "media = ((nota1 + nota2 + nota3) /3)\n",
    "print(\"A média final é: {:.2f}\".format(media))\n"
   ]
  },
  {
   "cell_type": "markdown",
   "metadata": {},
   "source": [
    "4 - Escreva um programa que calcule a média geométrica entre três números informados pelo usuário."
   ]
  },
  {
   "cell_type": "code",
   "execution_count": 6,
   "metadata": {},
   "outputs": [
    {
     "name": "stdout",
     "output_type": "stream",
     "text": [
      "A média geométrica dos números é: 12.60\n"
     ]
    }
   ],
   "source": [
    "import math\n",
    "\n",
    "numero_01 = float(input(\"Digite o primeiro número: \"))\n",
    "numero_02 = float(input(\"Digite o segundo número: \"))\n",
    "numero_03 = float(input(\"Digite o terceiro número: \"))\n",
    "\n",
    "media_geo = math.pow(numero_01 * numero_02 * numero_03, 1/3)\n",
    "\n",
    "print(\"A média geométrica dos números é: {:.2f}\".format(media_geo))\n",
    "\n"
   ]
  },
  {
   "cell_type": "markdown",
   "metadata": {},
   "source": [
    "5 - Escreva um programa que calcule o IMC de um indivíduo, utilizando a fórmula IMC = peso / altura2"
   ]
  },
  {
   "cell_type": "code",
   "execution_count": 2,
   "metadata": {},
   "outputs": [
    {
     "name": "stdout",
     "output_type": "stream",
     "text": [
      "Seu índice de massa corporal (IMC) é:  0.0023738662131519276\n",
      "Seu índice de massa corporal (IMC) é: 0.0024\n"
     ]
    }
   ],
   "source": [
    "peso = float(input('Digite seu peso em kg: '))\n",
    "altura = float(input(\"Digite sua altura em cm: \"))\n",
    "\n",
    "imc = peso / (altura )** 2\n",
    "print(\"Seu índice de massa corporal (IMC) é: \", imc)\n",
    "#formatado\n",
    "print(\"Seu índice de massa corporal (IMC) é: {:.4f}\".format(imc))"
   ]
  },
  {
   "cell_type": "markdown",
   "metadata": {},
   "source": [
    "6 - Crie um programa que calcule e exiba o perimetro de um círculo, solcitando o raio ao usuário"
   ]
  },
  {
   "cell_type": "code",
   "execution_count": 1,
   "metadata": {},
   "outputs": [
    {
     "name": "stdout",
     "output_type": "stream",
     "text": [
      "O perímetro do círculo é:  125.66370614359172\n"
     ]
    }
   ],
   "source": [
    "import math\n",
    "\n",
    "raio = float(input(\"Digite o raio do círculo: \"))\n",
    "\n",
    "perimetro = 2 * math.pi * raio\n",
    "print(\"O perímetro do círculo é: \", perimetro)"
   ]
  },
  {
   "cell_type": "markdown",
   "metadata": {},
   "source": [
    "7 - Escreva um programa que calcule a área de um círculo a partir do raio, utilizando a formula A = pi r2"
   ]
  },
  {
   "cell_type": "code",
   "execution_count": 1,
   "metadata": {},
   "outputs": [
    {
     "name": "stdout",
     "output_type": "stream",
     "text": [
      "A área do círculo é:  314.1592653589793\n"
     ]
    }
   ],
   "source": [
    "import math\n",
    "\n",
    "raio = float(input(\"Digite o ráio do círculo: \"))\n",
    "area = math.pi * raio**2\n",
    "print(\"A área do círculo é: \", area)"
   ]
  },
  {
   "cell_type": "markdown",
   "metadata": {},
   "source": [
    "8 - Escreva um programa que calcule o delta de uma equiação de segundo grau (triangulo = b2 - 4ac)"
   ]
  },
  {
   "cell_type": "code",
   "execution_count": 2,
   "metadata": {},
   "outputs": [
    {
     "name": "stdout",
     "output_type": "stream",
     "text": [
      "O delta da equiação de segundo gral é:  -175.0\n"
     ]
    }
   ],
   "source": [
    "a = float(input(\"Digite o coeficiente a: \"))\n",
    "b = float(input(\"Digite o coeficiente b: \"))\n",
    "c = float(input(\"Digite o coeficiente c: \"))\n",
    "\n",
    "delta = b**2 - 4*a*c\n",
    "print(\"O delta da equiação de segundo gral é: \", delta)"
   ]
  },
  {
   "cell_type": "markdown",
   "metadata": {},
   "source": [
    "9 - Escreva um programa que calcule o perímetro e a área de um retângulo, utilizando as fórmulas P = 2(l + c) e A = lc, onde l é a largura e c o comprimento"
   ]
  },
  {
   "cell_type": "code",
   "execution_count": 4,
   "metadata": {},
   "outputs": [
    {
     "name": "stdout",
     "output_type": "stream",
     "text": [
      "O perímetro do retângulo é:  80.0\n",
      "A área do retângulo é:  400.0\n"
     ]
    }
   ],
   "source": [
    "largura = float(input(\"Digite a largura do retângulo: \"))\n",
    "comprimento = float(input(\"Digite o comprimento do retângulo: \"))\n",
    "\n",
    "perimetro = 2 * (largura + comprimento)\n",
    "area = largura * comprimento\n",
    "\n",
    "print(\"O perímetro do retângulo é: \", perimetro)\n",
    "print(\"A área do retângulo é: \", area)\n",
    "\n"
   ]
  },
  {
   "cell_type": "markdown",
   "metadata": {},
   "source": [
    "10 - Escreva um programa que calcule o perímetro e a área do triângulo, utilizando as formulas P = a + b + c e   A = (b * h) /2 onde a, b e c são os lados do triângulo e h é altura relativa ao lado b. "
   ]
  },
  {
   "cell_type": "code",
   "execution_count": 1,
   "metadata": {},
   "outputs": [
    {
     "name": "stdout",
     "output_type": "stream",
     "text": [
      "O perímetro do triângulo é:  30.0\n",
      "A área do triângulo é:  50.0\n"
     ]
    }
   ],
   "source": [
    "a = float(input(\"Digite o valor do lado a: \"))\n",
    "b = float(input(\"Digite o valor do lado b: \"))\n",
    "c = float(input(\"Digite o valor do lado c: \"))\n",
    "\n",
    "h = float(input(\"Digite a altura relativa ao lado b do triangulo: \"))\n",
    "\n",
    "perimetro = a + b + c\n",
    "area = (b * h)/2\n",
    "print(\"O perímetro do triângulo é: \", perimetro)\n",
    "print(\"A área do triângulo é: \", area)\n"
   ]
  },
  {
   "cell_type": "markdown",
   "metadata": {},
   "source": [
    "11 - Escreva um programa que calcule a velocidade média de um objeto, utilizando a fórmula V = delta_s /delta_t, onde V é a velocidade média, delta_s é a variação de espaço e delta_t é a de tempo."
   ]
  },
  {
   "cell_type": "code",
   "execution_count": 1,
   "metadata": {},
   "outputs": [
    {
     "name": "stdout",
     "output_type": "stream",
     "text": [
      "A velocidade média é:  2.0\n"
     ]
    }
   ],
   "source": [
    "delta_s = float(input(\"Digite a variação de espaço (delta_s): \"))\n",
    "delta_t = float(input(\"Digite a variação de tempo (delta_t): \"))\n",
    "\n",
    "velocidade_media = delta_s / delta_t\n",
    "\n",
    "print(\"A velocidade média é: \", velocidade_media)"
   ]
  },
  {
   "cell_type": "markdown",
   "metadata": {},
   "source": [
    "12 - Escreva um programa que calcule a energia cinética de um objeto em movimento, utilizando a fórmula E = (mv2) / 2 onde E é a energia cinética, m é a massa do objeto e v é a velocidade."
   ]
  },
  {
   "cell_type": "code",
   "execution_count": 2,
   "metadata": {},
   "outputs": [
    {
     "name": "stdout",
     "output_type": "stream",
     "text": [
      "A energia cinética do objeto é:  1687.5\n"
     ]
    }
   ],
   "source": [
    "# Formula E = (mv2) / 2\n",
    "\n",
    "m = float(input(\"Digite a massa do objeto: \"))\n",
    "v = float(input(\"Digite a velocidade do objeto: \"))\n",
    "\n",
    "energia_cinetia = (m * v**2) / 2\n",
    "print(\"A energia cinética do objeto é: \", energia_cinetia)"
   ]
  },
  {
   "cell_type": "markdown",
   "metadata": {},
   "source": [
    "13 - Escreva um programa que calcule o trabalho realizado por uma força que atua sobre um objeto, utilizando a fórmula T = F * d, onde T é o trabalho, F é a força aplicada e d é a distância percorrida pelo objeto."
   ]
  },
  {
   "cell_type": "code",
   "execution_count": 1,
   "metadata": {},
   "outputs": [
    {
     "name": "stdout",
     "output_type": "stream",
     "text": [
      "O resultado da força é de:  150.0\n"
     ]
    }
   ],
   "source": [
    "forca = float(input(\"Digite o valor da força aplicada (F): \"))\n",
    "distancia = float(input(\"Digite o valor da distância percorrida (D): \"))\n",
    "\n",
    "trabalho = forca * distancia\n",
    "\n",
    "print(\"O resultado da força é de: \", trabalho)"
   ]
  },
  {
   "cell_type": "markdown",
   "metadata": {},
   "source": [
    "14 - escreva um programa que leia a posição x e y de dois pontos no plano cartesiano, e calcule a distância entre ambos."
   ]
  },
  {
   "cell_type": "code",
   "execution_count": null,
   "metadata": {},
   "outputs": [],
   "source": [
    "import math\n",
    "\n",
    "# Coordenadas do primeiro ponto\n",
    "x1 = float(input(\"Digite a coordenada x do primeiro ponto: \"))\n",
    "y1 = float(input(\"Digite a coordenada y do primeiro ponto: \"))\n",
    "\n",
    "\n",
    "# Coordenadas do segundo ponto\n",
    "x2 = float(input(\"Digite a coordenada x do segundo ponto: \"))\n",
    "y2 = float(input(\"Digite a coordenada y do segundo ponto: \"))\n",
    "\n",
    "# Calculando a diferença entre as coordenadas x e y dos dois pontos\n",
    "dif_x = x2 - x1\n",
    "dif_y = y2 - y1\n",
    "\n",
    "# Calcula a distância entre os pontos utilizando o teorema de pitágoras\n",
    "distancia = math.sqrt(dif_x ** 2 + dif_y ** 2)\n",
    "\n",
    "print(\"A distância entre os pontos é: \", distancia)\n",
    "\n"
   ]
  },
  {
   "cell_type": "markdown",
   "metadata": {},
   "source": [
    "15 - Crie um programa qie spçocote ap usário o valor do raio de uma esfera e calcule e exiba o seu volume"
   ]
  },
  {
   "cell_type": "code",
   "execution_count": 1,
   "metadata": {},
   "outputs": [
    {
     "name": "stdout",
     "output_type": "stream",
     "text": [
      "O valor da esfera é:  14137166.941154068\n"
     ]
    }
   ],
   "source": [
    "# Importando o módulo math para utilizar a constante pi\n",
    "import math\n",
    "\n",
    "raio = float(input(\"Digite o valor do raio da esfera: \"))\n",
    "\n",
    "# Formula V = (4/3) * pi * raio3\n",
    "volume = (4/3) * math.pi * raio **3\n",
    "\n",
    "print(\"O valor da esfera é: \", volume)\n"
   ]
  },
  {
   "cell_type": "markdown",
   "metadata": {},
   "source": [
    "16 - Faça um programa que solicite a idade de uma pessoa e exiba se ela é maior de idade ou nao"
   ]
  },
  {
   "cell_type": "code",
   "execution_count": 10,
   "metadata": {},
   "outputs": [
    {
     "name": "stdout",
     "output_type": "stream",
     "text": [
      "Você é maior de idade. Idade atual 58 anos\n"
     ]
    }
   ],
   "source": [
    "idade = int(input(\"Digite sua idade: \"))\n",
    "\n",
    "if idade >= 18:\n",
    "    print(\"Você é maior de idade. Idade atual {} anos\".format(idade))\n",
    "else:\n",
    "    print(\"Você ainda não atingiu a maior idade\")"
   ]
  },
  {
   "cell_type": "markdown",
   "metadata": {},
   "source": [
    "17 - Faça um programa que leia dois números e informe qual é o maior"
   ]
  },
  {
   "cell_type": "code",
   "execution_count": 23,
   "metadata": {},
   "outputs": [
    {
     "name": "stdout",
     "output_type": "stream",
     "text": [
      "Os valores são iguais .\n"
     ]
    }
   ],
   "source": [
    "numero_01 = int(input(\"Digite o primeiro valor: \"))\n",
    "numero_02 = int(input(\"Digite o segundo valor: \"))\n",
    "\n",
    "if numero_01 > numero_02:\n",
    "    print(\"O primeiro valor, {} é maior que segundo, {}\".format(numero_01, numero_02))\n",
    "elif numero_02 > numero_01:\n",
    "    print(\"O segundo valor {}, é maior que o primeiro valor {}.\".format(numero_02, numero_01))\n",
    "else:\n",
    "    print(\"Os valores são iguais.\".format(numero_02, numero_01))    "
   ]
  },
  {
   "cell_type": "markdown",
   "metadata": {},
   "source": [
    "18 - Escreva um programa que solicite três números ao usuário e exiba o maior deles"
   ]
  },
  {
   "cell_type": "code",
   "execution_count": 22,
   "metadata": {},
   "outputs": [
    {
     "name": "stdout",
     "output_type": "stream",
     "text": [
      "O maior número é: 32.9\n"
     ]
    }
   ],
   "source": [
    "numero_01 = float(input(\"Digite o primeiro valor: \"))\n",
    "numero_02 = float(input(\"Digite o segundo valor: \"))\n",
    "numero_03 = float(input(\"Digite o terceiro valor: \"))\n",
    "\n",
    "\n",
    "if numero_01 >= numero_02 and numero_01 >= numero_03:\n",
    "    maior_numero = numero_01\n",
    "elif numero_02 >= numero_01 and numero_02 >= numero_03:\n",
    "    maior_numero = numero_02\n",
    "else:\n",
    "    maior_numero = numero_03\n",
    "\n",
    "print(\"O maior número é:\", maior_numero)\n",
    "\n",
    "\n"
   ]
  },
  {
   "cell_type": "markdown",
   "metadata": {},
   "source": [
    "19 - Faça um programa que leia um número e informe se ele é para ou ímpar"
   ]
  },
  {
   "cell_type": "code",
   "execution_count": 28,
   "metadata": {},
   "outputs": [
    {
     "name": "stdout",
     "output_type": "stream",
     "text": [
      "O número 3 é ímpar!\n"
     ]
    }
   ],
   "source": [
    "numero = int(input(\"Digite um número: \"))\n",
    "\n",
    "if numero % 2 == 0:\n",
    "    print(\"O número\", numero, \"é par!\" )\n",
    "else:\n",
    "    print(\"O número\", numero, \"é ímpar!\")"
   ]
  },
  {
   "cell_type": "markdown",
   "metadata": {},
   "source": [
    "20 - Faça um programa que leia um número e informe se ele é positivo ou negativo"
   ]
  },
  {
   "cell_type": "code",
   "execution_count": 33,
   "metadata": {},
   "outputs": [
    {
     "name": "stdout",
     "output_type": "stream",
     "text": [
      "O número -7 é negativo!\n"
     ]
    }
   ],
   "source": [
    "numero = int(input(\"Digite o número: \"))\n",
    "\n",
    "if numero < 0:\n",
    "    print(\"O número {} é negativo!\".format(numero))\n",
    "elif numero > 0:\n",
    "    print(\"O número {} é positivo!\".format(numero))\n",
    "else:\n",
    "    print(\"O número é igual a zero!\")"
   ]
  },
  {
   "cell_type": "markdown",
   "metadata": {},
   "source": [
    "21 - Faça um prgrama que leia duas notas de suas provas e informe se o aluno foi aprovado (nota maior que 6) ou reprovado (nota menor que 6) em cada uma das provas"
   ]
  },
  {
   "cell_type": "code",
   "execution_count": 45,
   "metadata": {},
   "outputs": [
    {
     "name": "stdout",
     "output_type": "stream",
     "text": [
      "O aluno foi reprovado na primeira prova!\n",
      "O aluno reprovado na segunda prova!\n"
     ]
    }
   ],
   "source": [
    "nota1 = float(input(\"Digite a primeira nota: \"))\n",
    "nota2 = float(input(\"Digite a segunda nota: \"))\n",
    "\n",
    "\n",
    "if nota1 >= 6:\n",
    "    print(\"O aluno aprovado na primeira prova!\")\n",
    "else:\n",
    "    print(\"O aluno foi reprovado na primeira prova!\")\n",
    "\n",
    "\n",
    "if nota2 <= 6:\n",
    "    print(\"O aluno reprovado na segunda prova!\")\n",
    "else:\n",
    "    print(\"O aluno foi reprovado na primeira prova!\")"
   ]
  },
  {
   "cell_type": "markdown",
   "metadata": {},
   "source": [
    "22 - Faça um programa que leia as notas de duas provas, calcule a média aritimética simples e informe se o aluno foi aprovado (média maior ou igual a 6) ou reprovado (menor que 6)"
   ]
  },
  {
   "cell_type": "code",
   "execution_count": 48,
   "metadata": {},
   "outputs": [
    {
     "name": "stdout",
     "output_type": "stream",
     "text": [
      "O aluno foi reprovado. Sua média foi 5.75\n"
     ]
    }
   ],
   "source": [
    "nota1 = float(input(\"Digite a primeira nota: \"))\n",
    "nota2 = float(input(\"Digite a segunda nota: \"))\n",
    "\n",
    "media = (nota1 + nota2)/2\n",
    "\n",
    "if media >= 6:\n",
    "    print(\"o aluno foi aprovado. Sua média foi {}\".format(media))\n",
    "elif media < 6:\n",
    "    print(\"O aluno foi reprovado. Sua média foi {}\".format(media))\n"
   ]
  },
  {
   "cell_type": "markdown",
   "metadata": {},
   "source": [
    "23 - Faça um programa que leia três números e informe se a soma deles é divisível por 5 ou não"
   ]
  },
  {
   "cell_type": "code",
   "execution_count": 52,
   "metadata": {},
   "outputs": [
    {
     "name": "stdout",
     "output_type": "stream",
     "text": [
      "o valor 58 não é divisível por 5!\n"
     ]
    }
   ],
   "source": [
    "numero_01 = int(input(\"Digite o primeiro número: \"))\n",
    "numero_02 = int(input(\"Digite o segundo número: \"))\n",
    "numero_03 = int(input(\"Digite o terceiro número: \"))\n",
    "\n",
    "soma_total = numero_01 + numero_02 + numero_03\n",
    "\n",
    "if soma_total % 5 == 0:\n",
    "    print(\"A soma dos números é igual à {} que é divisível por 5.\".format(soma_total))\n",
    "else:\n",
    "    print(\"o valor {} não é divisível por 5!\".format(soma_total))"
   ]
  },
  {
   "cell_type": "markdown",
   "metadata": {},
   "source": [
    "24 - Crie um programa que leia três números e verifique se a soma deles é positiva, negativa ou igual a zero"
   ]
  },
  {
   "cell_type": "code",
   "execution_count": 57,
   "metadata": {},
   "outputs": [
    {
     "name": "stdout",
     "output_type": "stream",
     "text": [
      "A soma dos valores 3.0 é positivo!\n"
     ]
    }
   ],
   "source": [
    "numero_01 = float(input(\"Digite o primeiro número: \"))\n",
    "numero_02 = float(input(\"Digite o segundo número: \"))\n",
    "numero_03 = float(input(\"Digite o terceiro número: \"))\n",
    "\n",
    "soma_total = numero_01 + numero_02 + numero_03\n",
    "\n",
    "if soma_total == 0:\n",
    "    print(\"A soma dos números é igual a zero!\")\n",
    "elif soma_total > 0:\n",
    "    print(\"A soma dos valores {} é positivo!\".format(soma_total))\n",
    "else:\n",
    "    print(\"A soma dos números é negativo!\")\n"
   ]
  },
  {
   "cell_type": "markdown",
   "metadata": {},
   "source": [
    "25 - Faça um programa que leia três números e mostre eles na tela em ordem crescente"
   ]
  },
  {
   "cell_type": "code",
   "execution_count": 83,
   "metadata": {},
   "outputs": [
    {
     "name": "stdout",
     "output_type": "stream",
     "text": [
      "Números crescentes\n",
      "[3.0, 12.0, 78.0]\n"
     ]
    }
   ],
   "source": [
    "\n",
    "numero_01 = float(input(\"Digite o primeiro número: \"))\n",
    "numero_02 = float(input(\"Digite o segundo número: \"))\n",
    "numero_03 = float(input(\"Digite o terceiro número: \"))\n",
    "\n",
    "# Usado a função sort para ordenar os números em ordem crescente\n",
    "total_numeros = [numero_01, numero_02, numero_03]\n",
    "total_numeros.sort()\n",
    "print(\"Números crescentes\")\n",
    "print(total_numeros)\n",
    "\n"
   ]
  },
  {
   "cell_type": "markdown",
   "metadata": {},
   "source": [
    "26 - faça um programa que leia a idade de três pessoas e quantas delas é maior de idade (idade >= 18)"
   ]
  },
  {
   "cell_type": "code",
   "execution_count": 92,
   "metadata": {},
   "outputs": [
    {
     "name": "stdout",
     "output_type": "stream",
     "text": [
      "Das três pessoas, 0 são maiores de idade\n"
     ]
    }
   ],
   "source": [
    "idade01 = int(input(\"Digite a idade 1: \"))\n",
    "idade02 = int(input(\"Digite a idade 2: \"))\n",
    "idade03 = int(input(\"Digite a idade 3: \"))\n",
    "\n",
    "# Inicia a variável para contar a idade  das pessoas maiores de idade\n",
    "maior_de_idade = 0\n",
    "\n",
    "\n",
    "if idade01 >= 18:\n",
    "    maior_de_idade += 1\n",
    "\n",
    "if idade02 >= 18:\n",
    "     maior_de_idade += 1\n",
    "\n",
    "if idade03 >= 18:\n",
    "     maior_de_idade += 1\n",
    "\n",
    "print(\"Das três pessoas, {} são maiores de idade\".format(maior_de_idade))\n",
    "\n"
   ]
  },
  {
   "cell_type": "markdown",
   "metadata": {},
   "source": [
    "27 - Faça um programa que leia três números e informe se eles podem ser os lados de um triângulo (a soma de dois lados deve ser sempre maior que o terceiro lado)"
   ]
  },
  {
   "cell_type": "code",
   "execution_count": 97,
   "metadata": {},
   "outputs": [
    {
     "name": "stdout",
     "output_type": "stream",
     "text": [
      "Os lados podem formar um triângulo!\n",
      "Os lados NÃO podem formar um triângulo!\n"
     ]
    }
   ],
   "source": [
    "lado_01 = float(input(\"Digite o primeiro lado: \"))\n",
    "lado_02 = float(input(\"Digite o segundo lado: \"))\n",
    "lado_03 = float(input(\"Digite o terceiro lado: \"))\n",
    "\n",
    "# Verificando se os lados formam um triângulo \n",
    "if lado_01 + lado_02 > lado_03 and lado_01 + lado_03 > lado_02 and lado_03 + lado_02 > lado_01:\n",
    "    print(\"Os lados podem formar um triângulo!\")\n",
    "else:\n",
    "    print(\"Os lados NÃO podem formar um triângulo!\")\n",
    "\n",
    "\n",
    "\n",
    "# Teste para lados iguais de um triângulo\n",
    "if lado_01 == lado_02 and lado_02 == lado_03:\n",
    "    print(\"Os lados podem formar um triângulo!\")\n",
    "else:\n",
    "    print(\"Os lados NÃO podem formar um triângulo!\")"
   ]
  },
  {
   "cell_type": "markdown",
   "metadata": {},
   "source": [
    "28 - Faça um programa que leia o ano de nascimento de uma pessoa e informe se ela esta apta a votar(idade maior ou igual a 16 anos)"
   ]
  },
  {
   "cell_type": "code",
   "execution_count": 185,
   "metadata": {},
   "outputs": [
    {
     "name": "stdout",
     "output_type": "stream",
     "text": [
      "Idade atual 14. Volte daqui à 2 anos\n"
     ]
    }
   ],
   "source": [
    "from datetime import date\n",
    "\n",
    "data_atual = date.today()\n",
    "\n",
    "dataNascimento = int(input(\"Digite o ano de nascimento no formato 1990: \"))\n",
    "\n",
    "idade = (data_atual.year) - dataNascimento\n",
    "\n",
    "if idade >= 16:\n",
    "    print(\"Você tem {} anos idade. Já pode votar!\".format(idade))\n",
    "elif idade < 16:\n",
    "    print(\"Idade atual {}. Volte daqui à {} anos\".format(idade, (16 - idade)))\n",
    "\n",
    "\n",
    "\n",
    "\n"
   ]
  },
  {
   "cell_type": "markdown",
   "metadata": {},
   "source": [
    "29 - Faça um programa que leia a idade de um pessoa e informe se ela não esta apta a votar (idade inferior a 16 anos), se esta apta a votar, poré não é obrigada (16, 17 anos), ou se é obrigada (18 a 69 anos)"
   ]
  },
  {
   "cell_type": "code",
   "execution_count": 196,
   "metadata": {},
   "outputs": [
    {
     "name": "stdout",
     "output_type": "stream",
     "text": [
      "Idade atual 7 anos. Volte daqui a 9 anos para votar!\n"
     ]
    }
   ],
   "source": [
    "from datetime import date  \n",
    "\n",
    "dataNascimento = int(input(\"Digite o ano de nascimento (Formato 1990): \"))\n",
    "\n",
    "idade = data_atual.year - dataNascimento\n",
    "\n",
    "if idade < 16:\n",
    "    print(\"Idade atual {} anos. Volte daqui a {} anos para votar!\". format(idade, (16 - idade)))\n",
    "elif idade >= 17 and idade <= 69:\n",
    "    print(\"Idade atua {} anos. Voto obrigatório.\".format(idade))\n",
    "else:\n",
    "    print(\"Idade atual {} anos. Você não é obrigado a votar!\".format(idade))\n",
    "\n"
   ]
  },
  {
   "cell_type": "markdown",
   "metadata": {},
   "source": [
    "30 - Faça um programa que leia três notas de um aluno e informe se ele foi aprovado (nota final maior ou igual a 7), reprovado (nota final menor que 4) reuperação (nota final entre 4 e 7)"
   ]
  },
  {
   "cell_type": "code",
   "execution_count": 204,
   "metadata": {},
   "outputs": [
    {
     "name": "stdout",
     "output_type": "stream",
     "text": [
      "Reprovado. Média final 3.6666666666666665.\n"
     ]
    }
   ],
   "source": [
    "nota1 = float(input(\"Digite a primeira nota: \"))\n",
    "nota2 = float(input(\"Digite a segunda nota: \"))\n",
    "nota3 = float(input(\"Digite a terceira nota: \"))\n",
    "\n",
    "media = (nota1 + nota2 + nota3) / 3\n",
    "\n",
    "if media >= 7:\n",
    "    print(\"Aprovado. Média final {}.\".format(media))\n",
    "elif media < 4:\n",
    "    print(\"Reprovado. Média final {}.\".format(media))\n",
    "else:\n",
    "    print(\"Recuperação. Média final {}.\".format(media))\n"
   ]
  },
  {
   "cell_type": "markdown",
   "metadata": {},
   "source": [
    "31 - Faça um programa que solicite um dia da semana e exiba se é um dia útil (de segunda a sexta) ou um dia de fim de semana (sábado ou domingo)"
   ]
  },
  {
   "cell_type": "code",
   "execution_count": 30,
   "metadata": {},
   "outputs": [
    {
     "name": "stdout",
     "output_type": "stream",
     "text": [
      "SEGUNDA é um dia útil!\n"
     ]
    }
   ],
   "source": [
    "dia = input(\"Digite o dia da semana: \")\n",
    "\n",
    "# lower - Convertendo para letras minusculas\n",
    "# upper - Converte para maiúsculas\n",
    "\n",
    "if dia.lower() ==\"segunda\" or dia.lower() ==\"terça\" or dia.lower() ==\"quarta\" or dia.lower() ==\"quinta\" or dia.lower() ==\"sexta\":\n",
    "    print(\"{} é um dia útil!\".format(dia.upper()))\n",
    "elif dia.lower() == \"sabado\" or dia.lower() ==\"domingo\":\n",
    "    print(\"{} é fim de semana!\".format(dia.upper()))\n",
    "else:\n",
    "    print(\"Dia inválido. Digite novamente!\")"
   ]
  },
  {
   "cell_type": "markdown",
   "metadata": {},
   "source": [
    "32 - Escreva um programa que solicite o peso e altura de uma pessoa e calcule o índice de massa corporal (IMC) exibindo a categoria correspondente (abaixo do peso, peso normal, sobrepeso, obesidade, obesidade grava)"
   ]
  },
  {
   "cell_type": "code",
   "execution_count": 43,
   "metadata": {},
   "outputs": [
    {
     "name": "stdout",
     "output_type": "stream",
     "text": [
      "Seu IMC é: 23.74\n",
      "categoria: peso normal\n"
     ]
    }
   ],
   "source": [
    "peso = float(input(\"Digite seu peso: \"))\n",
    "altura = float(input(\"Digite sua altura: \"))\n",
    "\n",
    "imc = peso / (altura ** 2)\n",
    "\n",
    "if imc < 18.5:\n",
    "    categoria = \"abaixo do peso\"\n",
    "elif imc < 25:\n",
    "    categoria = \"peso normal\"\n",
    "elif imc < 30:\n",
    "    categoria = \"sobrepeso\"\n",
    "elif imc < 35:\n",
    "    categoria = \"obesidade\"\n",
    "else:\n",
    "    categoria = \"obesidade grave\"\n",
    "\n",
    "print(\"Seu IMC é: {:.2f}\".format(imc))\n",
    "print(\"categoria: {}\".format(categoria))"
   ]
  },
  {
   "cell_type": "markdown",
   "metadata": {},
   "source": [
    "34 - Crie um programa que solicite a idade de uma pessoa e exiba se ela é criança ( 0 a 12 anos) adolescente (13 a 17 anos), adulto (18 a 59 anos) ou idoso (60 anos ou mais) "
   ]
  },
  {
   "cell_type": "code",
   "execution_count": 58,
   "metadata": {},
   "outputs": [
    {
     "name": "stdout",
     "output_type": "stream",
     "text": [
      "Idade 90. Idoso!\n"
     ]
    }
   ],
   "source": [
    "idade = int(input(\"Digite sua idade: \"))\n",
    "\n",
    "if idade <= 12:\n",
    "    print(f\"idade {idade}. É uma criança!\")\n",
    "elif idade <= 17:\n",
    "    print(f\"Idade {idade}. É uma adoliescente!\")\n",
    "elif idade <= 59:\n",
    "    print(f\"Idade {idade}. Adulto!\")\n",
    "else:\n",
    "    print(f\"Idade {idade}. Idoso!\")"
   ]
  },
  {
   "cell_type": "markdown",
   "metadata": {},
   "source": [
    "LAÇOS DE REPETIÇÃO - FOR, WHILE, RANGE"
   ]
  },
  {
   "cell_type": "markdown",
   "metadata": {},
   "source": [
    "36 - Escreva um programa que que exiba os números de 1 a 10 utilizando um laço de repetição"
   ]
  },
  {
   "cell_type": "code",
   "execution_count": null,
   "metadata": {},
   "outputs": [],
   "source": [
    "#Utilizando while \n",
    "numero = 1\n",
    "while numero <= 10:\n",
    "    print(numero)\n",
    "    numero += 1"
   ]
  },
  {
   "cell_type": "code",
   "execution_count": null,
   "metadata": {},
   "outputs": [],
   "source": [
    "#Utilizando o for\n",
    "\n",
    "for numero in range(1, 11):\n",
    "    print(numero)"
   ]
  },
  {
   "cell_type": "markdown",
   "metadata": {},
   "source": [
    "37 - Escreva um programa que exiba todos os números de 1 a 100"
   ]
  },
  {
   "cell_type": "code",
   "execution_count": null,
   "metadata": {},
   "outputs": [],
   "source": [
    "#Utilizando o for\n",
    "\n",
    "for numero in range(1, 101):\n",
    "    print(numero)"
   ]
  },
  {
   "cell_type": "code",
   "execution_count": null,
   "metadata": {},
   "outputs": [],
   "source": [
    "# Utilizando while\n",
    "\n",
    "numero = 1\n",
    "while numero <= 100:\n",
    "    print(numero)\n",
    "    numero += 1"
   ]
  },
  {
   "cell_type": "markdown",
   "metadata": {},
   "source": [
    "38 - Exiba um programa que exiba todos os números pares de 1 a 100"
   ]
  },
  {
   "cell_type": "code",
   "execution_count": null,
   "metadata": {},
   "outputs": [],
   "source": [
    "# Utilizando for\n",
    "\n",
    "for numero in range(2, 101, 2):\n",
    "    print(numero)\n"
   ]
  },
  {
   "cell_type": "code",
   "execution_count": null,
   "metadata": {},
   "outputs": [],
   "source": [
    "# Utilizando while\n",
    "# Solução 1\n",
    "numero = 1\n",
    "while numero <= 100:\n",
    "    if numero % 2 == 0:\n",
    "        print(numero)\n",
    "    numero += 1"
   ]
  },
  {
   "cell_type": "code",
   "execution_count": null,
   "metadata": {},
   "outputs": [],
   "source": [
    "# Utilizando while\n",
    "# Solução 2\n",
    "\n",
    "numero = 2\n",
    "while numero <=100:\n",
    "    print(numero)\n",
    "    numero += 2"
   ]
  },
  {
   "cell_type": "markdown",
   "metadata": {},
   "source": [
    "39 - Escreva um programa que exiba os números pares de 1 a 50 e os números ímpares de 51 a 100 utilizando o laço de repetição"
   ]
  },
  {
   "cell_type": "code",
   "execution_count": null,
   "metadata": {},
   "outputs": [],
   "source": [
    "# Exibindo os números pares\n",
    "\n",
    "print(\"Números pares de 1 a 50\")\n",
    "for numeros_pares in range(2, 51, 2):\n",
    "    print(numeros_pares)\n",
    "\n"
   ]
  },
  {
   "cell_type": "code",
   "execution_count": null,
   "metadata": {},
   "outputs": [],
   "source": [
    "# Exibindo os números ímpares\n",
    "print(\"Números ímpares de 51 a 100\")\n",
    "for numeros_impar in range(51, 101, 2):\n",
    "    print(numeros_impar)"
   ]
  }
 ],
 "metadata": {
  "kernelspec": {
   "display_name": "Python 3",
   "language": "python",
   "name": "python3"
  },
  "language_info": {
   "codemirror_mode": {
    "name": "ipython",
    "version": 3
   },
   "file_extension": ".py",
   "mimetype": "text/x-python",
   "name": "python",
   "nbconvert_exporter": "python",
   "pygments_lexer": "ipython3",
   "version": "3.12.4"
  }
 },
 "nbformat": 4,
 "nbformat_minor": 2
}
